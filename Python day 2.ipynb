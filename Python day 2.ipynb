{
 "cells": [
  {
   "cell_type": "code",
   "execution_count": null,
   "id": "87fcd881",
   "metadata": {},
   "outputs": [],
   "source": [
    "RANGE"
   ]
  },
  {
   "cell_type": "code",
   "execution_count": 1,
   "id": "25a8ce78",
   "metadata": {},
   "outputs": [
    {
     "name": "stdout",
     "output_type": "stream",
     "text": [
      "range(0, 6)\n"
     ]
    }
   ],
   "source": [
    "number = range(6)\n",
    "print(number)"
   ]
  },
  {
   "cell_type": "code",
   "execution_count": null,
   "id": "8c67a7c4",
   "metadata": {},
   "outputs": [],
   "source": [
    "LOOPS"
   ]
  },
  {
   "cell_type": "code",
   "execution_count": null,
   "id": "2cb52036",
   "metadata": {},
   "outputs": [],
   "source": [
    "# While loop"
   ]
  },
  {
   "cell_type": "code",
   "execution_count": 5,
   "id": "76c96854",
   "metadata": {},
   "outputs": [
    {
     "name": "stdout",
     "output_type": "stream",
     "text": [
      "1\n",
      "2\n",
      "3\n",
      "4\n",
      "5\n",
      "6\n"
     ]
    }
   ],
   "source": [
    "i=1\n",
    "while i<=6:\n",
    "    print(i)\n",
    "    i+=1"
   ]
  },
  {
   "cell_type": "code",
   "execution_count": 6,
   "id": "81b6a653",
   "metadata": {},
   "outputs": [
    {
     "name": "stdout",
     "output_type": "stream",
     "text": [
      "*\n",
      "**\n",
      "***\n",
      "****\n",
      "*****\n",
      "******\n"
     ]
    }
   ],
   "source": [
    "i=1\n",
    "while i<=6:\n",
    "    print(i * \"*\")\n",
    "    i+=1"
   ]
  },
  {
   "cell_type": "code",
   "execution_count": 8,
   "id": "582936da",
   "metadata": {},
   "outputs": [
    {
     "name": "stdout",
     "output_type": "stream",
     "text": [
      "******\n",
      "*****\n",
      "****\n",
      "***\n",
      "**\n",
      "*\n",
      "\n"
     ]
    }
   ],
   "source": [
    "i=6\n",
    "while i>=0:\n",
    "    print(i * \"*\")\n",
    "    i-=1"
   ]
  },
  {
   "cell_type": "code",
   "execution_count": null,
   "id": "599d4d11",
   "metadata": {},
   "outputs": [],
   "source": [
    "# For loop"
   ]
  },
  {
   "cell_type": "code",
   "execution_count": 10,
   "id": "0286ca22",
   "metadata": {},
   "outputs": [
    {
     "name": "stdout",
     "output_type": "stream",
     "text": [
      "0\n",
      "1\n",
      "2\n",
      "3\n",
      "4\n",
      "5\n"
     ]
    }
   ],
   "source": [
    "for i in range(6):\n",
    "    print(i)"
   ]
  },
  {
   "cell_type": "code",
   "execution_count": 11,
   "id": "31564ab2",
   "metadata": {},
   "outputs": [
    {
     "name": "stdout",
     "output_type": "stream",
     "text": [
      "1\n",
      "2\n",
      "3\n",
      "4\n",
      "5\n",
      "6\n"
     ]
    }
   ],
   "source": [
    "for item in range(6):\n",
    "    print(item+1)"
   ]
  },
  {
   "cell_type": "code",
   "execution_count": null,
   "id": "400705e1",
   "metadata": {},
   "outputs": [],
   "source": [
    "# LIST in Python"
   ]
  },
  {
   "cell_type": "code",
   "execution_count": 12,
   "id": "a1b08c27",
   "metadata": {},
   "outputs": [
    {
     "name": "stdout",
     "output_type": "stream",
     "text": [
      "98\n"
     ]
    }
   ],
   "source": [
    "marks= [95,98,97]\n",
    "print(marks[1]) # 1 is the index number"
   ]
  },
  {
   "cell_type": "code",
   "execution_count": 13,
   "id": "9d91f858",
   "metadata": {},
   "outputs": [
    {
     "name": "stdout",
     "output_type": "stream",
     "text": [
      "97\n"
     ]
    }
   ],
   "source": [
    "marks= [95,98,97]\n",
    "print(marks[-1]) # -1 index number, start counting from last number"
   ]
  },
  {
   "cell_type": "code",
   "execution_count": 14,
   "id": "5a02edd3",
   "metadata": {},
   "outputs": [
    {
     "name": "stdout",
     "output_type": "stream",
     "text": [
      "[95, 98]\n"
     ]
    }
   ],
   "source": [
    "marks= [95,98,97]\n",
    "print(marks[0:2]) # if we want first two numbers only"
   ]
  },
  {
   "cell_type": "code",
   "execution_count": 15,
   "id": "548e1320",
   "metadata": {},
   "outputs": [
    {
     "name": "stdout",
     "output_type": "stream",
     "text": [
      "95\n",
      "98\n",
      "97\n"
     ]
    }
   ],
   "source": [
    "marks= [95,98,97]\n",
    "for score in marks:\n",
    "    print (score)"
   ]
  },
  {
   "cell_type": "code",
   "execution_count": 16,
   "id": "85d531f1",
   "metadata": {},
   "outputs": [
    {
     "name": "stdout",
     "output_type": "stream",
     "text": [
      "[95, 98, 97, 99]\n"
     ]
    }
   ],
   "source": [
    "marks= [95,98,97]\n",
    "marks.append(99)   # append is to add the new marks in the list\n",
    "print(marks)"
   ]
  },
  {
   "cell_type": "code",
   "execution_count": 17,
   "id": "a2545931",
   "metadata": {},
   "outputs": [
    {
     "name": "stdout",
     "output_type": "stream",
     "text": [
      "[99, 95, 98, 97]\n"
     ]
    }
   ],
   "source": [
    "marks= [95,98,97]\n",
    "marks.insert(0,99)   # insert is to add the new marks in the start or in the middle of the list\n",
    "print(marks)"
   ]
  },
  {
   "cell_type": "code",
   "execution_count": 18,
   "id": "56c60797",
   "metadata": {},
   "outputs": [
    {
     "name": "stdout",
     "output_type": "stream",
     "text": [
      "True\n"
     ]
    }
   ],
   "source": [
    "marks= [95,98,97]\n",
    "marks.insert(0,99) \n",
    "print(99 in marks)  # to check whether 99 is present in out list or not"
   ]
  },
  {
   "cell_type": "code",
   "execution_count": 19,
   "id": "9cab3e09",
   "metadata": {},
   "outputs": [
    {
     "name": "stdout",
     "output_type": "stream",
     "text": [
      "4\n"
     ]
    }
   ],
   "source": [
    "marks= [95,98,97]\n",
    "marks.insert(0,99) \n",
    "print(len(marks))   # to find out the length of the list"
   ]
  },
  {
   "cell_type": "code",
   "execution_count": null,
   "id": "daedcdc0",
   "metadata": {},
   "outputs": [],
   "source": [
    "# use while loop to list the marks"
   ]
  },
  {
   "cell_type": "code",
   "execution_count": 20,
   "id": "0d5d2755",
   "metadata": {},
   "outputs": [
    {
     "name": "stdout",
     "output_type": "stream",
     "text": [
      "95\n",
      "98\n",
      "97\n"
     ]
    }
   ],
   "source": [
    "marks =[95,98,97]\n",
    "\n",
    "i=0\n",
    "while i<len(marks):\n",
    "    print(marks[i])\n",
    "    i=i+1"
   ]
  },
  {
   "cell_type": "code",
   "execution_count": 25,
   "id": "70caf176",
   "metadata": {},
   "outputs": [
    {
     "name": "stdout",
     "output_type": "stream",
     "text": [
      "95\n",
      "98\n",
      "97\n",
      "[]\n"
     ]
    }
   ],
   "source": [
    "marks =[95,98,97]\n",
    "\n",
    "i=0\n",
    "while i<len(marks):\n",
    "    print(marks[i])\n",
    "    i=i+1\n",
    "    \n",
    "marks.clear()   # to clear all the marks from the list\n",
    "print(marks)"
   ]
  },
  {
   "cell_type": "code",
   "execution_count": null,
   "id": "41e59a2e",
   "metadata": {},
   "outputs": [],
   "source": [
    "BREAK & CONTINUE "
   ]
  },
  {
   "cell_type": "code",
   "execution_count": 27,
   "id": "78e52cbe",
   "metadata": {},
   "outputs": [
    {
     "name": "stdout",
     "output_type": "stream",
     "text": [
      "ram\n",
      "shyam\n",
      "rishi\n"
     ]
    }
   ],
   "source": [
    "student=[\"ram\",\"shyam\",\"rishi\",\"kam\",\"tom\"]\n",
    "\n",
    "for student in student:\n",
    "    if student == \"kam\":\n",
    "        break;             #want to print the name till kam, we use break operator to break loop\n",
    "    print(student)    "
   ]
  },
  {
   "cell_type": "code",
   "execution_count": 28,
   "id": "c2cf0ac0",
   "metadata": {},
   "outputs": [
    {
     "name": "stdout",
     "output_type": "stream",
     "text": [
      "ram\n",
      "shyam\n",
      "kam\n",
      "tom\n"
     ]
    }
   ],
   "source": [
    "student=[\"ram\",\"shyam\",\"rishi\",\"kam\",\"tom\"]  # square bracket is uesd for list\n",
    "\n",
    "for student in student:\n",
    "    if student == \"rishi\":\n",
    "        continue;             #rishi took tc from school and shifted to other state, so dont want rishi name in the list\n",
    "    print(student) "
   ]
  },
  {
   "cell_type": "code",
   "execution_count": null,
   "id": "2b93d91b",
   "metadata": {},
   "outputs": [],
   "source": [
    "TUPLE Function --- # it will not allow any modification in the list( insert, append, replace etc)"
   ]
  },
  {
   "cell_type": "code",
   "execution_count": 31,
   "id": "38f377f3",
   "metadata": {},
   "outputs": [
    {
     "name": "stdout",
     "output_type": "stream",
     "text": [
      "1\n",
      "2\n"
     ]
    }
   ],
   "source": [
    "marks=(95,98,97,97,97)    #() used for tuple - but () is not compulsury \n",
    "\n",
    "print(marks.count(98))     # to count  the no. of times same number repeated\n",
    "print(marks.index(97))     # to find the index of the number"
   ]
  },
  {
   "cell_type": "code",
   "execution_count": null,
   "id": "85b8f0d0",
   "metadata": {},
   "outputs": [],
   "source": [
    "SET structure"
   ]
  },
  {
   "cell_type": "code",
   "execution_count": 32,
   "id": "0944de85",
   "metadata": {},
   "outputs": [
    {
     "name": "stdout",
     "output_type": "stream",
     "text": [
      "{97, 98, 95}\n"
     ]
    }
   ],
   "source": [
    "# {} used for sets\n",
    "\n",
    "marks={95,98,97,97,97}\n",
    "\n",
    "print(marks)\n",
    "# in sets only unique value can be saved or exist\n",
    "# in sets index does not exist -- we cannot find out the index number in the sets "
   ]
  },
  {
   "cell_type": "code",
   "execution_count": 33,
   "id": "3f00a7ab",
   "metadata": {},
   "outputs": [
    {
     "name": "stdout",
     "output_type": "stream",
     "text": [
      "97\n",
      "98\n",
      "95\n"
     ]
    }
   ],
   "source": [
    "marks={95,98,97,97,97}\n",
    "\n",
    "for score in marks:\n",
    "    print(score)"
   ]
  },
  {
   "cell_type": "code",
   "execution_count": null,
   "id": "61c82d4c",
   "metadata": {},
   "outputs": [],
   "source": [
    "Disctionary structure -- # store key value pairs"
   ]
  },
  {
   "cell_type": "code",
   "execution_count": 40,
   "id": "ad0969d9",
   "metadata": {},
   "outputs": [
    {
     "name": "stdout",
     "output_type": "stream",
     "text": [
      "98\n"
     ]
    }
   ],
   "source": [
    "marks={\"english\" : 95, \"chemistry\" : 98}  # subject is KEY and marks is VALUE\n",
    "\n",
    "print(marks[\"chemistry\"])"
   ]
  },
  {
   "cell_type": "code",
   "execution_count": 41,
   "id": "c574bb72",
   "metadata": {},
   "outputs": [
    {
     "name": "stdout",
     "output_type": "stream",
     "text": [
      "98\n",
      "{'english': 95, 'chemistry': 98, 'physics': 96}\n"
     ]
    }
   ],
   "source": [
    "marks={\"english\" : 95, \"chemistry\" : 98}  # subject is KEY and marks is VALUE\n",
    "\n",
    "print(marks[\"chemistry\"])\n",
    "\n",
    "marks[\"physics\"] = 96;  # add any subject and his value\n",
    "print(marks)"
   ]
  },
  {
   "cell_type": "code",
   "execution_count": 42,
   "id": "72c43ee1",
   "metadata": {},
   "outputs": [
    {
     "name": "stdout",
     "output_type": "stream",
     "text": [
      "98\n",
      "{'english': 95, 'chemistry': 98, 'physics': 96}\n",
      "{'english': 95, 'chemistry': 98, 'physics': 100}\n"
     ]
    }
   ],
   "source": [
    "marks={\"english\" : 95, \"chemistry\" : 98}  # subject is KEY and marks is VALUE\n",
    "\n",
    "print(marks[\"chemistry\"])\n",
    "\n",
    "marks[\"physics\"] = 96;  # add any subject and his value\n",
    "print(marks)\n",
    "\n",
    "marks[\"physics\"] = 100   # physics marks changed\n",
    "print(marks)"
   ]
  },
  {
   "cell_type": "code",
   "execution_count": null,
   "id": "12d9c8ec",
   "metadata": {},
   "outputs": [],
   "source": []
  },
  {
   "cell_type": "code",
   "execution_count": null,
   "id": "95e3314c",
   "metadata": {},
   "outputs": [],
   "source": []
  }
 ],
 "metadata": {
  "kernelspec": {
   "display_name": "Python 3 (ipykernel)",
   "language": "python",
   "name": "python3"
  },
  "language_info": {
   "codemirror_mode": {
    "name": "ipython",
    "version": 3
   },
   "file_extension": ".py",
   "mimetype": "text/x-python",
   "name": "python",
   "nbconvert_exporter": "python",
   "pygments_lexer": "ipython3",
   "version": "3.11.4"
  }
 },
 "nbformat": 4,
 "nbformat_minor": 5
}
